{
 "cells": [
  {
   "cell_type": "code",
   "execution_count": 1,
   "metadata": {},
   "outputs": [
    {
     "name": "stdout",
     "output_type": "stream",
     "text": [
      "/Users/jdshen/Dropbox/workspace/ml-kata\n"
     ]
    }
   ],
   "source": [
    "%cd .."
   ]
  },
  {
   "cell_type": "code",
   "execution_count": 2,
   "metadata": {},
   "outputs": [],
   "source": [
    "import sklearn.datasets\n",
    "import torch\n",
    "import numpy as np\n",
    "import kata2.train as sol"
   ]
  },
  {
   "cell_type": "code",
   "execution_count": 3,
   "metadata": {},
   "outputs": [
    {
     "name": "stderr",
     "output_type": "stream",
     "text": [
      "/Users/jdshen/miniforge3/envs/ml-kata/lib/python3.10/site-packages/sklearn/datasets/_openml.py:968: FutureWarning: The default value of `parser` will change from `'liac-arff'` to `'auto'` in 1.4. You can set `parser='auto'` to silence this warning. Therefore, an `ImportError` will be raised from 1.4 if the dataset is dense and pandas is not installed. Note that the pandas parser may return different data types. See the Notes Section in fetch_openml's API doc for details.\n",
      "  warn(\n"
     ]
    }
   ],
   "source": [
    "data = sklearn.datasets.fetch_openml(\"mnist_784\", version=1, as_frame=False)"
   ]
  },
  {
   "cell_type": "code",
   "execution_count": 4,
   "metadata": {},
   "outputs": [],
   "source": [
    "inputs = data.data\n",
    "targets = data.target.astype(np.int64)\n",
    "N = 60000\n",
    "train_inputs, valid_inputs, train_targets, valid_targets = inputs[:N], inputs[N:], targets[:N], targets[N:]"
   ]
  },
  {
   "cell_type": "code",
   "execution_count": 5,
   "metadata": {},
   "outputs": [
    {
     "name": "stdout",
     "output_type": "stream",
     "text": [
      "train loss: 0.5750, train acc: 0.9135. valid loss: 0.1900, valid acc: 0.9466\n",
      "train loss: 0.1692, train acc: 0.9529. valid loss: 0.1847, valid acc: 0.9550\n",
      "train loss: 0.1556, train acc: 0.9584. valid loss: 0.1935, valid acc: 0.9537\n",
      "train loss: 0.1575, train acc: 0.9589. valid loss: 0.2057, valid acc: 0.9536\n",
      "train loss: 0.1543, train acc: 0.9614. valid loss: 0.2156, valid acc: 0.9525\n",
      "train loss: 0.1434, train acc: 0.9655. valid loss: 0.2725, valid acc: 0.9506\n",
      "train loss: 0.1468, train acc: 0.9659. valid loss: 0.1926, valid acc: 0.9632\n",
      "train loss: 0.1314, train acc: 0.9696. valid loss: 0.2208, valid acc: 0.9631\n",
      "train loss: 0.1244, train acc: 0.9711. valid loss: 0.2123, valid acc: 0.9622\n",
      "train loss: 0.1206, train acc: 0.9721. valid loss: 0.2739, valid acc: 0.9560\n"
     ]
    }
   ],
   "source": [
    "torch.manual_seed(0)\n",
    "preds = sol.train(train_inputs, train_targets, valid_inputs, valid_targets, 10)"
   ]
  },
  {
   "cell_type": "code",
   "execution_count": 6,
   "metadata": {},
   "outputs": [
    {
     "data": {
      "text/plain": [
       "0.956"
      ]
     },
     "execution_count": 6,
     "metadata": {},
     "output_type": "execute_result"
    }
   ],
   "source": [
    "(preds == valid_targets).mean()"
   ]
  }
 ],
 "metadata": {
  "kernelspec": {
   "display_name": "squad_zero",
   "language": "python",
   "name": "python3"
  },
  "language_info": {
   "codemirror_mode": {
    "name": "ipython",
    "version": 3
   },
   "file_extension": ".py",
   "mimetype": "text/x-python",
   "name": "python",
   "nbconvert_exporter": "python",
   "pygments_lexer": "ipython3",
   "version": "3.10.12"
  }
 },
 "nbformat": 4,
 "nbformat_minor": 2
}
