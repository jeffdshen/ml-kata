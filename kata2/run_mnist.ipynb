{
 "cells": [
  {
   "cell_type": "code",
   "execution_count": 1,
   "metadata": {},
   "outputs": [
    {
     "name": "stdout",
     "output_type": "stream",
     "text": [
      "/Users/jdshen/Dropbox/workspace/ml-kata\n"
     ]
    }
   ],
   "source": [
    "%cd .."
   ]
  },
  {
   "cell_type": "code",
   "execution_count": 2,
   "metadata": {},
   "outputs": [],
   "source": [
    "import sklearn.datasets\n",
    "import torch\n",
    "import numpy as np\n",
    "import kata2.train as sol"
   ]
  },
  {
   "cell_type": "code",
   "execution_count": 3,
   "metadata": {},
   "outputs": [],
   "source": [
    "data = sklearn.datasets.fetch_openml(\"mnist_784\", version=1, as_frame=False)"
   ]
  },
  {
   "cell_type": "code",
   "execution_count": 4,
   "metadata": {},
   "outputs": [],
   "source": [
    "inputs = data.data\n",
    "targets = data.target.astype(np.int64)\n",
    "N = 60000\n",
    "train_inputs, valid_inputs, train_targets, valid_targets = inputs[:N], inputs[N:], targets[:N], targets[N:]"
   ]
  },
  {
   "cell_type": "code",
   "execution_count": 5,
   "metadata": {},
   "outputs": [
    {
     "name": "stdout",
     "output_type": "stream",
     "text": [
      "train loss: 0.5759, train acc: 0.9144. valid loss: 0.1703, valid acc: 0.9515\n",
      "train loss: 0.1705, train acc: 0.9521. valid loss: 0.2006, valid acc: 0.9493\n",
      "train loss: 0.1588, train acc: 0.9571. valid loss: 0.1595, valid acc: 0.9566\n",
      "train loss: 0.1550, train acc: 0.9603. valid loss: 0.2099, valid acc: 0.9546\n",
      "train loss: 0.1565, train acc: 0.9607. valid loss: 0.2123, valid acc: 0.9530\n",
      "train loss: 0.1417, train acc: 0.9640. valid loss: 0.2218, valid acc: 0.9622\n",
      "train loss: 0.1445, train acc: 0.9662. valid loss: 0.2390, valid acc: 0.9575\n",
      "train loss: 0.1320, train acc: 0.9679. valid loss: 0.2199, valid acc: 0.9598\n",
      "train loss: 0.1380, train acc: 0.9686. valid loss: 0.2526, valid acc: 0.9529\n",
      "train loss: 0.1224, train acc: 0.9720. valid loss: 0.2344, valid acc: 0.9589\n"
     ]
    }
   ],
   "source": [
    "torch.manual_seed(0)\n",
    "preds = sol.train(train_inputs, train_targets, valid_inputs, valid_targets, 10)"
   ]
  },
  {
   "cell_type": "code",
   "execution_count": 6,
   "metadata": {},
   "outputs": [
    {
     "data": {
      "text/plain": [
       "0.9589"
      ]
     },
     "execution_count": 6,
     "metadata": {},
     "output_type": "execute_result"
    }
   ],
   "source": [
    "(preds == valid_targets).mean()"
   ]
  }
 ],
 "metadata": {
  "kernelspec": {
   "display_name": "squad_zero",
   "language": "python",
   "name": "python3"
  },
  "language_info": {
   "codemirror_mode": {
    "name": "ipython",
    "version": 3
   },
   "file_extension": ".py",
   "mimetype": "text/x-python",
   "name": "python",
   "nbconvert_exporter": "python",
   "pygments_lexer": "ipython3",
   "version": "3.7.13"
  }
 },
 "nbformat": 4,
 "nbformat_minor": 2
}
