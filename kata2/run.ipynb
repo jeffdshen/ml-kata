{
 "cells": [
  {
   "cell_type": "code",
   "execution_count": 1,
   "metadata": {},
   "outputs": [
    {
     "name": "stdout",
     "output_type": "stream",
     "text": [
      "/Users/jdshen/Dropbox/workspace/ml-kata\n"
     ]
    }
   ],
   "source": [
    "%cd .."
   ]
  },
  {
   "cell_type": "code",
   "execution_count": 2,
   "metadata": {},
   "outputs": [],
   "source": [
    "import sklearn.datasets\n",
    "from sklearn.model_selection import train_test_split\n",
    "import torch\n",
    "import kata2.train as sol"
   ]
  },
  {
   "cell_type": "code",
   "execution_count": 3,
   "metadata": {},
   "outputs": [
    {
     "name": "stdout",
     "output_type": "stream",
     "text": [
      "train loss: 1.8359, train acc: 0.4892. valid loss: 0.6221, valid acc: 0.8089\n",
      "train loss: 0.3739, train acc: 0.8916. valid loss: 0.2695, valid acc: 0.9222\n",
      "train loss: 0.1935, train acc: 0.9451. valid loss: 0.1637, valid acc: 0.9556\n",
      "train loss: 0.1315, train acc: 0.9673. valid loss: 0.1386, valid acc: 0.9533\n",
      "train loss: 0.0971, train acc: 0.9770. valid loss: 0.1559, valid acc: 0.9444\n",
      "train loss: 0.1340, train acc: 0.9614. valid loss: 0.1173, valid acc: 0.9733\n",
      "train loss: 0.0684, train acc: 0.9866. valid loss: 0.1109, valid acc: 0.9711\n",
      "train loss: 0.0542, train acc: 0.9903. valid loss: 0.1049, valid acc: 0.9711\n",
      "train loss: 0.0550, train acc: 0.9926. valid loss: 0.1044, valid acc: 0.9689\n",
      "train loss: 0.0394, train acc: 0.9955. valid loss: 0.0888, valid acc: 0.9778\n",
      "train loss: 0.0456, train acc: 0.9926. valid loss: 0.0945, valid acc: 0.9689\n",
      "train loss: 0.0446, train acc: 0.9933. valid loss: 0.0922, valid acc: 0.9733\n",
      "train loss: 0.0302, train acc: 0.9955. valid loss: 0.0798, valid acc: 0.9733\n",
      "train loss: 0.0233, train acc: 0.9985. valid loss: 0.0767, valid acc: 0.9756\n",
      "train loss: 0.0207, train acc: 0.9985. valid loss: 0.0793, valid acc: 0.9778\n",
      "train loss: 0.0187, train acc: 0.9985. valid loss: 0.0734, valid acc: 0.9800\n"
     ]
    }
   ],
   "source": [
    "data = sklearn.datasets.load_digits()\n",
    "train_inputs, valid_inputs, train_targets, valid_targets = train_test_split(data.data, data.target, random_state=0)\n",
    "torch.manual_seed(0)\n",
    "preds = sol.train(train_inputs, train_targets, valid_inputs, valid_targets, 16)"
   ]
  },
  {
   "cell_type": "code",
   "execution_count": 4,
   "metadata": {},
   "outputs": [
    {
     "data": {
      "text/plain": [
       "0.98"
      ]
     },
     "execution_count": 4,
     "metadata": {},
     "output_type": "execute_result"
    }
   ],
   "source": [
    "(preds == valid_targets).mean()"
   ]
  }
 ],
 "metadata": {
  "kernelspec": {
   "display_name": "squad_zero",
   "language": "python",
   "name": "python3"
  },
  "language_info": {
   "codemirror_mode": {
    "name": "ipython",
    "version": 3
   },
   "file_extension": ".py",
   "mimetype": "text/x-python",
   "name": "python",
   "nbconvert_exporter": "python",
   "pygments_lexer": "ipython3",
   "version": "3.7.13"
  }
 },
 "nbformat": 4,
 "nbformat_minor": 2
}
